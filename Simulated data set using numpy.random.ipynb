{
 "cells": [
  {
   "cell_type": "markdown",
   "metadata": {},
   "source": [
    "# Project to simulate a data set using numpy.random"
   ]
  },
  {
   "cell_type": "markdown",
   "metadata": {
    "collapsed": true
   },
   "source": [
    "The real world phenomenom I have chosen for this project is the gender breakdown at senior management level in Institutes of Technology.   \n",
    "I will look at the following variables:   \n",
    "Age\n",
    "Qualification\n",
    "Years of Experience\n",
    "Grade\n",
    "Gender   \n",
    "\n",
    "The age variable will be a non-negative real number between 18 & 66.\n",
    "The Qualification variable will be a categorical variable with one of 6 different values: none, Level 6, Level 7, Level 8, Level 9, Level 10.\n",
    "The years of experience variable will be a non-negative real number\n",
    "The Grade variable will be a categorical variable with one of 7 different values: Assistant Lecturer, Lecturer, Senior Lecturer 1, Senior Lecturer 2, Senior Lecturer 3, Registrar, President\n",
    "The Gender variable will be either male or female\n",
    "The determinant of whether a staff member has reached senior management level will be their Grade - those at SL2, SL3, Registrar & President will be considered at Senior Management level\n",
    "Only staff categorised as Academic will be considered in this project."
   ]
  }
 ],
 "metadata": {
  "kernelspec": {
   "display_name": "Python 3",
   "language": "python",
   "name": "python3"
  },
  "language_info": {
   "codemirror_mode": {
    "name": "ipython",
    "version": 3
   },
   "file_extension": ".py",
   "mimetype": "text/x-python",
   "name": "python",
   "nbconvert_exporter": "python",
   "pygments_lexer": "ipython3",
   "version": "3.6.3"
  }
 },
 "nbformat": 4,
 "nbformat_minor": 2
}
